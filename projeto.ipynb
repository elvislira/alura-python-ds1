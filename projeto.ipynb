{
 "cells": [
  {
   "cell_type": "markdown",
   "metadata": {},
   "source": [
    "# Desafio: Hora da Prática"
   ]
  },
  {
   "cell_type": "markdown",
   "metadata": {},
   "source": [
    "## Aquecendo na Programação"
   ]
  },
  {
   "cell_type": "markdown",
   "metadata": {},
   "source": [
    "1. Faça um programa que tenha a seguinte lista contendo os valores de gastos de uma empresa de papel [2172.54, 3701.35, 3518.09, 3456.61, 3249.38, 2840.82, 3891.45, 3075.26, 2317.64, 3219.08]. Com esses valores, faça um programa que calcule a média de gastos. Dica: use as funções built-in sum() e len()."
   ]
  },
  {
   "cell_type": "code",
   "execution_count": 1,
   "metadata": {},
   "outputs": [
    {
     "data": {
      "text/plain": [
       "3144.222"
      ]
     },
     "execution_count": 1,
     "metadata": {},
     "output_type": "execute_result"
    }
   ],
   "source": [
    "gastos = [2172.54, 3701.35, 3518.09, 3456.61, 3249.38, 2840.82, 3891.45, 3075.26, 2317.64, 3219.08]\n",
    "media_gastos = sum(gastos) / len(gastos)\n",
    "\n",
    "media_gastos"
   ]
  },
  {
   "cell_type": "markdown",
   "metadata": {},
   "source": [
    "2. Com os mesmos dados da questão anterior, defina quantas compras foram realizadas acima de 3000 reais e calcule a porcentagem quanto ao total de compras."
   ]
  },
  {
   "cell_type": "code",
   "execution_count": 2,
   "metadata": {},
   "outputs": [
    {
     "name": "stdout",
     "output_type": "stream",
     "text": [
      "Compras realizadas acima de R$3000: 7\n",
      "Percentual de compras acima de R$3000: 70.0%\n"
     ]
    }
   ],
   "source": [
    "gastos_acima_3000 = [valor for valor in gastos if valor>3000]\n",
    "qtd_gastos_acima_3000 = len(gastos_acima_3000)\n",
    "percentual_gastos_acima_3000 = (qtd_gastos_acima_3000 / len(gastos)) * 100\n",
    "\n",
    "print(f'Compras realizadas acima de R$3000: {qtd_gastos_acima_3000}')\n",
    "print(f'Percentual de compras acima de R$3000: {percentual_gastos_acima_3000}%')"
   ]
  },
  {
   "cell_type": "markdown",
   "metadata": {},
   "source": [
    "3. Faça um código que colete em uma lista 5 números inteiros quaisquer e imprima a lista. Exemplo: [1,4,7,2,4]."
   ]
  },
  {
   "cell_type": "code",
   "execution_count": 3,
   "metadata": {},
   "outputs": [
    {
     "name": "stdout",
     "output_type": "stream",
     "text": [
      "[5, 8, 4, 10, 4]\n"
     ]
    }
   ],
   "source": [
    "lista = []\n",
    "\n",
    "for i in range(0, 5):\n",
    "    numero = int(input('Digite um número inteiro: '))\n",
    "    lista.append(numero)\n",
    "\n",
    "print(lista)"
   ]
  },
  {
   "cell_type": "markdown",
   "metadata": {},
   "source": [
    "4. Colete novamente 5 inteiros e imprima a lista em ordem inversa à enviada."
   ]
  },
  {
   "cell_type": "code",
   "execution_count": 4,
   "metadata": {},
   "outputs": [
    {
     "name": "stdout",
     "output_type": "stream",
     "text": [
      "[4, 10, 4, 8, 5]\n"
     ]
    }
   ],
   "source": [
    "lista = []\n",
    "\n",
    "for i in range(0, 5):\n",
    "    numero = int(input('Digite um número inteiro: '))\n",
    "    lista.append(numero)\n",
    "\n",
    "print(lista[::-1])"
   ]
  },
  {
   "cell_type": "markdown",
   "metadata": {},
   "source": [
    "5. Faça um programa que, ao inserir um número qualquer, cria uma lista contendo todos os números primos entre 1 e o número digitado."
   ]
  },
  {
   "cell_type": "markdown",
   "metadata": {},
   "source": [
    "* Função usada para verificar se um dado número é primo. Para isso verifica:\n",
    "    1. Se o número é 2 e retorna ***True***\n",
    "    2. Se o número é menor que 1 ou múltiplo de 2, retorna ***Falso***\n",
    "    3. Se o número tiver qualquer divisor menor ou igual a sua raiz quadrada, logo não será primo e retornará ***False***"
   ]
  },
  {
   "cell_type": "code",
   "execution_count": 11,
   "metadata": {},
   "outputs": [],
   "source": [
    "def is_primo(numero):\n",
    "    if numero == 2:\n",
    "        return True\n",
    "    \n",
    "    if numero <= 1 or numero%2 == 0:\n",
    "        return False\n",
    "    \n",
    "    raiz_mais_um = int(numero ** 0.5) + 1\n",
    "    for i in range(3, raiz_mais_um, 2):\n",
    "        if numero%i == 0:\n",
    "            return False\n",
    "    \n",
    "    return True"
   ]
  },
  {
   "cell_type": "markdown",
   "metadata": {},
   "source": [
    "* Função para listar todos os primos até um dado valor:"
   ]
  },
  {
   "cell_type": "code",
   "execution_count": 12,
   "metadata": {},
   "outputs": [],
   "source": [
    "def lista_primos(numero):\n",
    "    lista = []\n",
    "\n",
    "    for i in range(1, numero+1):\n",
    "        if is_primo(i):\n",
    "            lista.append(i)\n",
    "    \n",
    "    return lista"
   ]
  },
  {
   "cell_type": "markdown",
   "metadata": {},
   "source": [
    "* Solicita a digitação de um número e retorna a lista de todos os primos até o valor digitado:"
   ]
  },
  {
   "cell_type": "code",
   "execution_count": 17,
   "metadata": {},
   "outputs": [
    {
     "name": "stdout",
     "output_type": "stream",
     "text": [
      "Todos os números primos até 50: [2, 3, 5, 7, 11, 13, 17, 19, 23, 29, 31, 37, 41, 43, 47]\n"
     ]
    }
   ],
   "source": [
    "numero = int(input('Digite um número: '))\n",
    "\n",
    "print(f'Todos os números primos até {numero}: {lista_primos(numero)}')"
   ]
  },
  {
   "cell_type": "markdown",
   "metadata": {},
   "source": [
    "6. Escreva um programa que peça uma data informando o dia, mês e ano e determine se ela é válida para uma análise."
   ]
  },
  {
   "cell_type": "markdown",
   "metadata": {},
   "source": [
    "* Função para verificar se o ano é bissexto, tendo os seguintes critérios:\n",
    "    1. O ano deve ser divisível por 4\n",
    "    2. O ano não pode ser divisível por 100\n",
    "    3. O ano pode ser divisível por 400"
   ]
  },
  {
   "cell_type": "code",
   "execution_count": 19,
   "metadata": {},
   "outputs": [],
   "source": [
    "def is_bissexto(ano):\n",
    "    if ano%4 == 0:\n",
    "        if ano%100 == 0:\n",
    "            if ano%400 == 0:\n",
    "                return True\n",
    "            else:\n",
    "                return False\n",
    "        else:\n",
    "            return True\n",
    "    else:\n",
    "        return False\n"
   ]
  },
  {
   "cell_type": "markdown",
   "metadata": {},
   "source": [
    "* Função para verificar se uma data é válida (dados dia, mês e ano):"
   ]
  },
  {
   "cell_type": "code",
   "execution_count": 20,
   "metadata": {},
   "outputs": [],
   "source": [
    "def is_data_valida(dia, mes, ano):\n",
    "    if mes < 1 or mes > 12:\n",
    "        return False\n",
    "    \n",
    "    dias_mes = [31, 28, 31, 30, 31, 30, 31, 31, 30, 31, 30, 31]\n",
    "\n",
    "    if is_bissexto(ano):\n",
    "        dias_mes[1] = 29\n",
    "\n",
    "    if dia < 1 or dia > dias_mes[mes-1]:\n",
    "        return False\n",
    "    \n",
    "    return True"
   ]
  },
  {
   "cell_type": "markdown",
   "metadata": {},
   "source": [
    "* Solicita do usuário uma data recebendo dia, mês e ano:"
   ]
  },
  {
   "cell_type": "code",
   "execution_count": 23,
   "metadata": {},
   "outputs": [
    {
     "name": "stdout",
     "output_type": "stream",
     "text": [
      "31/2/2000 não é uma data válida.\n"
     ]
    }
   ],
   "source": [
    "dia = int(input('Forneça o dia: '))\n",
    "mes = int(input('Forneça o mês (1 a 12): '))\n",
    "ano = int(input('Forneça o ano: '))\n",
    "\n",
    "data_completa = f'{dia}/{mes}/{ano}'\n",
    "\n",
    "if is_data_valida(dia, mes, ano):\n",
    "    print(f'{data_completa} é uma data válida.')\n",
    "else:\n",
    "    print(f'{data_completa} não é uma data válida.')"
   ]
  },
  {
   "cell_type": "markdown",
   "metadata": {},
   "source": [
    "## Momento dos projetos"
   ]
  },
  {
   "cell_type": "markdown",
   "metadata": {},
   "source": [
    "7. Para um estudo envolvendo o nível de multiplicação de bactérias em uma colônia, foi coletado o número de bactérias por dia (em milhares) e pode ser observado a seguir: [1.2, 2.1, 3.3, 5.0, 7.8, 11.3, 16.6, 25.1, 37.8, 56.9]. Tendo esses valores, faça um código que gere uma lista contendo o percentual de crescimento de bactérias por dia, comparando o número de bactérias em cada dia com o número de bactérias do dia anterior. Dica: para calcular o percentual de crescimento usamos a seguinte equação: 100 * (amostra_atual - amostra_passada) / (amostra_passada)."
   ]
  },
  {
   "cell_type": "code",
   "execution_count": 50,
   "metadata": {},
   "outputs": [
    {
     "name": "stdout",
     "output_type": "stream",
     "text": [
      "Dia | Amostra (mil) | Aumento(%)\n",
      "  1 |           1.2 |       0.00\n",
      "  2 |           2.1 |      75.00\n",
      "  3 |           3.3 |      57.14\n",
      "  4 |           5.0 |      51.52\n",
      "  5 |           7.8 |      56.00\n",
      "  6 |          11.3 |      44.87\n",
      "  7 |          16.6 |      46.90\n",
      "  8 |          25.1 |      51.20\n",
      "  9 |          37.8 |      50.60\n",
      " 10 |          56.9 |      50.53\n"
     ]
    }
   ],
   "source": [
    "amostras = [1.2, 2.1, 3.3, 5.0, 7.8, 11.3, 16.6, 25.1, 37.8, 56.9]\n",
    "percentuais_crescimento = [0]\n",
    "\n",
    "for i in range(1, len(amostras)):\n",
    "    amostra_atual = amostras[i]\n",
    "    amostra_passada = amostras[i-1]\n",
    "    crescimento = round(((amostra_atual - amostra_passada) / amostra_passada) * 100.0, 2)\n",
    "    percentuais_crescimento.append(crescimento)\n",
    "\n",
    "print(f'Dia | Amostra (mil) | Aumento(%)')\n",
    "\n",
    "for i in range(0, len(amostras)):\n",
    "    print(f'{i+1:3} | {amostras[i]:13} | {percentuais_crescimento[i]:10.2f}')"
   ]
  },
  {
   "cell_type": "markdown",
   "metadata": {},
   "source": [
    "8. Para uma seleção de produtos alimentícios, precisamos separar o conjunto de IDs dados por números inteiros sabendo que os produtos com ID par são doces e os com ID ímpar são amargos. Monte um código que colete 10 IDs. Depois, calcule e mostre a quantidade de produtos doces e amargos."
   ]
  },
  {
   "cell_type": "code",
   "execution_count": 51,
   "metadata": {},
   "outputs": [
    {
     "name": "stdout",
     "output_type": "stream",
     "text": [
      "Produtos doces: 4\n",
      "Produtos amargos: 6\n"
     ]
    }
   ],
   "source": [
    "doces = 0\n",
    "amargos = 0\n",
    "\n",
    "for i in range(0, 10):\n",
    "    id = int(input('Digite o ID do produto: '))\n",
    "\n",
    "    if id % 2 == 0:\n",
    "        doces += 1\n",
    "    else:\n",
    "        amargos += 1\n",
    "\n",
    "print(f'Produtos doces: {doces}')\n",
    "print(f'Produtos amargos: {amargos}')"
   ]
  }
 ],
 "metadata": {
  "kernelspec": {
   "display_name": "venv",
   "language": "python",
   "name": "python3"
  },
  "language_info": {
   "codemirror_mode": {
    "name": "ipython",
    "version": 3
   },
   "file_extension": ".py",
   "mimetype": "text/x-python",
   "name": "python",
   "nbconvert_exporter": "python",
   "pygments_lexer": "ipython3",
   "version": "3.12.3"
  }
 },
 "nbformat": 4,
 "nbformat_minor": 2
}
