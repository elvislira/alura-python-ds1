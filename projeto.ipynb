{
 "cells": [
  {
   "cell_type": "markdown",
   "metadata": {},
   "source": [
    "# Desafio: Hora da Prática"
   ]
  },
  {
   "cell_type": "markdown",
   "metadata": {},
   "source": [
    "## Aquecendo na Programação"
   ]
  },
  {
   "cell_type": "markdown",
   "metadata": {},
   "source": [
    "1. Faça um programa que tenha a seguinte lista contendo os valores de gastos de uma empresa de papel [2172.54, 3701.35, 3518.09, 3456.61, 3249.38, 2840.82, 3891.45, 3075.26, 2317.64, 3219.08]. Com esses valores, faça um programa que calcule a média de gastos. Dica: use as funções built-in sum() e len()."
   ]
  },
  {
   "cell_type": "code",
   "execution_count": 1,
   "metadata": {},
   "outputs": [
    {
     "data": {
      "text/plain": [
       "3144.222"
      ]
     },
     "execution_count": 1,
     "metadata": {},
     "output_type": "execute_result"
    }
   ],
   "source": [
    "gastos = [2172.54, 3701.35, 3518.09, 3456.61, 3249.38, 2840.82, 3891.45, 3075.26, 2317.64, 3219.08]\n",
    "media_gastos = sum(gastos) / len(gastos)\n",
    "\n",
    "media_gastos"
   ]
  },
  {
   "cell_type": "markdown",
   "metadata": {},
   "source": [
    "2. Com os mesmos dados da questão anterior, defina quantas compras foram realizadas acima de 3000 reais e calcule a porcentagem quanto ao total de compras."
   ]
  },
  {
   "cell_type": "code",
   "execution_count": 2,
   "metadata": {},
   "outputs": [
    {
     "name": "stdout",
     "output_type": "stream",
     "text": [
      "Compras realizadas acima de R$3000: 7\n",
      "Percentual de compras acima de R$3000: 70.0%\n"
     ]
    }
   ],
   "source": [
    "gastos_acima_3000 = [valor for valor in gastos if valor>3000]\n",
    "qtd_gastos_acima_3000 = len(gastos_acima_3000)\n",
    "percentual_gastos_acima_3000 = (qtd_gastos_acima_3000 / len(gastos)) * 100\n",
    "\n",
    "print(f'Compras realizadas acima de R$3000: {qtd_gastos_acima_3000}')\n",
    "print(f'Percentual de compras acima de R$3000: {percentual_gastos_acima_3000}%')"
   ]
  },
  {
   "cell_type": "markdown",
   "metadata": {},
   "source": [
    "3. Faça um código que colete em uma lista 5 números inteiros quaisquer e imprima a lista. Exemplo: [1,4,7,2,4]."
   ]
  },
  {
   "cell_type": "code",
   "execution_count": 3,
   "metadata": {},
   "outputs": [
    {
     "name": "stdout",
     "output_type": "stream",
     "text": [
      "[5, 8, 4, 10, 4]\n"
     ]
    }
   ],
   "source": [
    "lista = []\n",
    "\n",
    "for i in range(0, 5):\n",
    "    numero = int(input('Digite um número inteiro: '))\n",
    "    lista.append(numero)\n",
    "\n",
    "print(lista)"
   ]
  },
  {
   "cell_type": "markdown",
   "metadata": {},
   "source": [
    "4. Colete novamente 5 inteiros e imprima a lista em ordem inversa à enviada."
   ]
  },
  {
   "cell_type": "code",
   "execution_count": 4,
   "metadata": {},
   "outputs": [
    {
     "name": "stdout",
     "output_type": "stream",
     "text": [
      "[4, 10, 4, 8, 5]\n"
     ]
    }
   ],
   "source": [
    "lista = []\n",
    "\n",
    "for i in range(0, 5):\n",
    "    numero = int(input('Digite um número inteiro: '))\n",
    "    lista.append(numero)\n",
    "\n",
    "print(lista[::-1])"
   ]
  },
  {
   "cell_type": "markdown",
   "metadata": {},
   "source": [
    "5. Faça um programa que, ao inserir um número qualquer, cria uma lista contendo todos os números primos entre 1 e o número digitado."
   ]
  },
  {
   "cell_type": "markdown",
   "metadata": {},
   "source": [
    "* Função usada para verificar se um dado número é primo. Para isso verifica:\n",
    "    1. Se o número é 2 e retorna ***True***\n",
    "    2. Se o número é menor que 1 ou múltiplo de 2, retorna ***Falso***\n",
    "    3. Se o número tiver qualquer divisor menor ou igual a sua raiz quadrada, logo não será primo e retornará ***False***"
   ]
  },
  {
   "cell_type": "code",
   "execution_count": 11,
   "metadata": {},
   "outputs": [],
   "source": [
    "def is_primo(numero):\n",
    "    if numero == 2:\n",
    "        return True\n",
    "    \n",
    "    if numero <= 1 or numero%2 == 0:\n",
    "        return False\n",
    "    \n",
    "    raiz_mais_um = int(numero ** 0.5) + 1\n",
    "    for i in range(3, raiz_mais_um, 2):\n",
    "        if numero%i == 0:\n",
    "            return False\n",
    "    \n",
    "    return True"
   ]
  },
  {
   "cell_type": "markdown",
   "metadata": {},
   "source": [
    "* Função para listar todos os primos até um dado valor:"
   ]
  },
  {
   "cell_type": "code",
   "execution_count": 12,
   "metadata": {},
   "outputs": [],
   "source": [
    "def lista_primos(numero):\n",
    "    lista = []\n",
    "\n",
    "    for i in range(1, numero+1):\n",
    "        if is_primo(i):\n",
    "            lista.append(i)\n",
    "    \n",
    "    return lista"
   ]
  },
  {
   "cell_type": "markdown",
   "metadata": {},
   "source": [
    "* Solicita a digitação de um número e retorna a lista de todos os primos até o valor digitado:"
   ]
  },
  {
   "cell_type": "code",
   "execution_count": 17,
   "metadata": {},
   "outputs": [
    {
     "name": "stdout",
     "output_type": "stream",
     "text": [
      "Todos os números primos até 50: [2, 3, 5, 7, 11, 13, 17, 19, 23, 29, 31, 37, 41, 43, 47]\n"
     ]
    }
   ],
   "source": [
    "numero = int(input('Digite um número: '))\n",
    "\n",
    "print(f'Todos os números primos até {numero}: {lista_primos(numero)}')"
   ]
  },
  {
   "cell_type": "markdown",
   "metadata": {},
   "source": [
    "6. Escreva um programa que peça uma data informando o dia, mês e ano e determine se ela é válida para uma análise."
   ]
  },
  {
   "cell_type": "markdown",
   "metadata": {},
   "source": [
    "* Função para verificar se o ano é bissexto, tendo os seguintes critérios:\n",
    "    1. O ano deve ser divisível por 4\n",
    "    2. O ano não pode ser divisível por 100\n",
    "    3. O ano pode ser divisível por 400"
   ]
  },
  {
   "cell_type": "code",
   "execution_count": 19,
   "metadata": {},
   "outputs": [],
   "source": [
    "def is_bissexto(ano):\n",
    "    if ano%4 == 0:\n",
    "        if ano%100 == 0:\n",
    "            if ano%400 == 0:\n",
    "                return True\n",
    "            else:\n",
    "                return False\n",
    "        else:\n",
    "            return True\n",
    "    else:\n",
    "        return False\n"
   ]
  },
  {
   "cell_type": "markdown",
   "metadata": {},
   "source": [
    "* Função para verificar se uma data é válida (dados dia, mês e ano):"
   ]
  },
  {
   "cell_type": "code",
   "execution_count": 20,
   "metadata": {},
   "outputs": [],
   "source": [
    "def is_data_valida(dia, mes, ano):\n",
    "    if mes < 1 or mes > 12:\n",
    "        return False\n",
    "    \n",
    "    dias_mes = [31, 28, 31, 30, 31, 30, 31, 31, 30, 31, 30, 31]\n",
    "\n",
    "    if is_bissexto(ano):\n",
    "        dias_mes[1] = 29\n",
    "\n",
    "    if dia < 1 or dia > dias_mes[mes-1]:\n",
    "        return False\n",
    "    \n",
    "    return True"
   ]
  },
  {
   "cell_type": "markdown",
   "metadata": {},
   "source": [
    "* Solicita do usuário uma data recebendo dia, mês e ano:"
   ]
  },
  {
   "cell_type": "code",
   "execution_count": 23,
   "metadata": {},
   "outputs": [
    {
     "name": "stdout",
     "output_type": "stream",
     "text": [
      "31/2/2000 não é uma data válida.\n"
     ]
    }
   ],
   "source": [
    "dia = int(input('Forneça o dia: '))\n",
    "mes = int(input('Forneça o mês (1 a 12): '))\n",
    "ano = int(input('Forneça o ano: '))\n",
    "\n",
    "data_completa = f'{dia}/{mes}/{ano}'\n",
    "\n",
    "if is_data_valida(dia, mes, ano):\n",
    "    print(f'{data_completa} é uma data válida.')\n",
    "else:\n",
    "    print(f'{data_completa} não é uma data válida.')"
   ]
  },
  {
   "cell_type": "markdown",
   "metadata": {},
   "source": [
    "## Momento dos projetos"
   ]
  },
  {
   "cell_type": "markdown",
   "metadata": {},
   "source": [
    "7. Para um estudo envolvendo o nível de multiplicação de bactérias em uma colônia, foi coletado o número de bactérias por dia (em milhares) e pode ser observado a seguir: [1.2, 2.1, 3.3, 5.0, 7.8, 11.3, 16.6, 25.1, 37.8, 56.9]. Tendo esses valores, faça um código que gere uma lista contendo o percentual de crescimento de bactérias por dia, comparando o número de bactérias em cada dia com o número de bactérias do dia anterior. Dica: para calcular o percentual de crescimento usamos a seguinte equação: 100 * (amostra_atual - amostra_passada) / (amostra_passada)."
   ]
  },
  {
   "cell_type": "code",
   "execution_count": 50,
   "metadata": {},
   "outputs": [
    {
     "name": "stdout",
     "output_type": "stream",
     "text": [
      "Dia | Amostra (mil) | Aumento(%)\n",
      "  1 |           1.2 |       0.00\n",
      "  2 |           2.1 |      75.00\n",
      "  3 |           3.3 |      57.14\n",
      "  4 |           5.0 |      51.52\n",
      "  5 |           7.8 |      56.00\n",
      "  6 |          11.3 |      44.87\n",
      "  7 |          16.6 |      46.90\n",
      "  8 |          25.1 |      51.20\n",
      "  9 |          37.8 |      50.60\n",
      " 10 |          56.9 |      50.53\n"
     ]
    }
   ],
   "source": [
    "amostras = [1.2, 2.1, 3.3, 5.0, 7.8, 11.3, 16.6, 25.1, 37.8, 56.9]\n",
    "percentuais_crescimento = [0]\n",
    "\n",
    "for i in range(1, len(amostras)):\n",
    "    amostra_atual = amostras[i]\n",
    "    amostra_passada = amostras[i-1]\n",
    "    crescimento = round(((amostra_atual - amostra_passada) / amostra_passada) * 100.0, 2)\n",
    "    percentuais_crescimento.append(crescimento)\n",
    "\n",
    "print(f'Dia | Amostra (mil) | Aumento(%)')\n",
    "\n",
    "for i in range(0, len(amostras)):\n",
    "    print(f'{i+1:3} | {amostras[i]:13} | {percentuais_crescimento[i]:10.2f}')"
   ]
  },
  {
   "cell_type": "markdown",
   "metadata": {},
   "source": [
    "8. Para uma seleção de produtos alimentícios, precisamos separar o conjunto de IDs dados por números inteiros sabendo que os produtos com ID par são doces e os com ID ímpar são amargos. Monte um código que colete 10 IDs. Depois, calcule e mostre a quantidade de produtos doces e amargos."
   ]
  },
  {
   "cell_type": "code",
   "execution_count": 51,
   "metadata": {},
   "outputs": [
    {
     "name": "stdout",
     "output_type": "stream",
     "text": [
      "Produtos doces: 4\n",
      "Produtos amargos: 6\n"
     ]
    }
   ],
   "source": [
    "doces = 0\n",
    "amargos = 0\n",
    "\n",
    "for i in range(0, 10):\n",
    "    id = int(input('Digite o ID do produto: '))\n",
    "\n",
    "    if id % 2 == 0:\n",
    "        doces += 1\n",
    "    else:\n",
    "        amargos += 1\n",
    "\n",
    "print(f'Produtos doces: {doces}')\n",
    "print(f'Produtos amargos: {amargos}')"
   ]
  },
  {
   "cell_type": "markdown",
   "metadata": {},
   "source": [
    "9. Desenvolva um programa que informa a nota de um(a) aluno(a) de acordo com suas respostas. Ele deve pedir a resposta desse(a) aluno(a) para cada questão e é preciso verificar se a resposta foi igual ao gabarito. Cada questão vale um ponto e existem as alternativas A, B, C ou D."
   ]
  },
  {
   "cell_type": "markdown",
   "metadata": {},
   "source": [
    "**Gabarito da prova**:\n",
    "|Questão|Alternativa|\n",
    "|-|:-:|\n",
    "|01|D| \n",
    "|02|A| \n",
    "|03|C| \n",
    "|04|B| \n",
    "|05|A| \n",
    "|06|D| \n",
    "|07|C| \n",
    "|08|C| \n",
    "|09|A| \n",
    "|10|B|"
   ]
  },
  {
   "cell_type": "code",
   "execution_count": 3,
   "metadata": {},
   "outputs": [
    {
     "name": "stdout",
     "output_type": "stream",
     "text": [
      "Gabarito da prova: ['D', 'A', 'C', 'B', 'A', 'D', 'C', 'C', 'A', 'B']\n",
      "Gabarito do aluno: ['A', 'A', 'D', 'B', 'A', 'D', 'D', 'C', 'A', 'B']\n",
      "A nota do aluno foi 7.0\n"
     ]
    }
   ],
   "source": [
    "gabarito = ['D', 'A', 'C', 'B', 'A', 'D', 'C', 'C', 'A', 'B']\n",
    "gabarito_aluno = []\n",
    "nota = 0.0\n",
    "\n",
    "for i in range(0, 10):\n",
    "    resposta_questao = input(f'Digite a resposta da Questão {i+1} (A, B, C ou D): ').upper()\n",
    "    gabarito_aluno.append(resposta_questao)\n",
    "    \n",
    "    if resposta_questao == gabarito[i]:\n",
    "        nota += 1\n",
    "\n",
    "print(f'Gabarito da prova: {gabarito}')\n",
    "print(f'Gabarito do aluno: {gabarito_aluno}')\n",
    "print(f'A nota do aluno foi {nota}')"
   ]
  },
  {
   "cell_type": "markdown",
   "metadata": {},
   "source": [
    "10.  Um instituto de meteorologia deseja fazer um estudo de temperatura média de cada mês do ano. Para isso, você precisa fazer um código que colete e armazene essas temperaturas médias em uma lista. Depois, calcule a média anual das temperaturas e mostre todas as temperaturas acima da média anual e em que mês elas ocorreram, mostrando os meses por extenso (Janeiro, Fevereiro, etc.)."
   ]
  },
  {
   "cell_type": "markdown",
   "metadata": {},
   "source": [
    "* Função para retornar o mês por extenso"
   ]
  },
  {
   "cell_type": "code",
   "execution_count": 3,
   "metadata": {},
   "outputs": [],
   "source": [
    "def mes(indice):\n",
    "    meses_extenso = [\n",
    "        'Janeiro',\n",
    "        'Fevereiro',\n",
    "        'Março',\n",
    "        'Abril',\n",
    "        'Maio',\n",
    "        'Junho',\n",
    "        'Julho',\n",
    "        'Agosto',\n",
    "        'Setembro',\n",
    "        'Outubro',\n",
    "        'Novembro',\n",
    "        'Dezembro'\n",
    "    ]\n",
    "\n",
    "    return meses_extenso[indice]"
   ]
  },
  {
   "cell_type": "code",
   "execution_count": 11,
   "metadata": {},
   "outputs": [
    {
     "name": "stdout",
     "output_type": "stream",
     "text": [
      "Temperatura média anual: (28.47)\n",
      "\n",
      "Temperaturas Acima da Média\n",
      "Mês        | Temperatura(ºC)\n",
      "Janeiro    | 29.60\n",
      "Fevereiro  | 29.80\n",
      "Março      | 29.80\n",
      "Abril      | 29.20\n",
      "Outubro    | 28.70\n",
      "Novembro   | 29.60\n",
      "Dezembro   | 29.70\n"
     ]
    }
   ],
   "source": [
    "temperaturas = [29.6, 29.8, 29.8, 29.2, 28.1, 27.0, 26.3, 26.5, 27.4, 28.7, 29.6, 29.7]\n",
    "temperatura_media_anual = round(sum(temperaturas) / len(temperaturas), 2)\n",
    "\n",
    "print(f'Temperatura média anual: ({temperatura_media_anual})\\n')\n",
    "print('Temperaturas Acima da Média')\n",
    "print('Mês        | Temperatura(ºC)')\n",
    "\n",
    "for i in range(0, len(temperaturas)):\n",
    "    if temperaturas[i] > temperatura_media_anual:\n",
    "        print(f'{mes(i):10} | {temperaturas[i]:.2f}')"
   ]
  },
  {
   "cell_type": "markdown",
   "metadata": {},
   "source": [
    "11. Uma empresa de e-commerce está interessada em analisar as vendas dos seus produtos. Os dados das vendas foram armazenados em um dicionário: {'Produto A': 300, 'Produto B': 80, 'Produto C': 60, 'Produto D': 200, 'Produto E': 250, 'Produto F': 30}. Escreva um código que calcule o total de vendas e o produto mais vendido."
   ]
  },
  {
   "cell_type": "code",
   "execution_count": 19,
   "metadata": {},
   "outputs": [
    {
     "name": "stdout",
     "output_type": "stream",
     "text": [
      "Total de vendas: 920\n",
      "Produto mais vendido: Produto A (300 unidades)\n"
     ]
    }
   ],
   "source": [
    "produtos = {'Produto A': 300, 'Produto B': 80, 'Produto C': 60, 'Produto D': 200, 'Produto E': 250, 'Produto F': 30}\n",
    "\n",
    "produto_mais_vendido = ''\n",
    "qtd_produto_mais_vendido = 0\n",
    "total_vendas = 0\n",
    "\n",
    "for produto, quantidade in produtos.items():\n",
    "    total_vendas += quantidade\n",
    "\n",
    "    if quantidade > qtd_produto_mais_vendido:\n",
    "        qtd_produto_mais_vendido = quantidade\n",
    "        produto_mais_vendido = produto\n",
    "\n",
    "print(f'Total de vendas: {total_vendas}')\n",
    "print(f'Produto mais vendido: {produto_mais_vendido} ({qtd_produto_mais_vendido} unidades)')"
   ]
  },
  {
   "cell_type": "markdown",
   "metadata": {},
   "source": [
    "12. Uma pesquisa de mercado foi feita para decidir qual design de marca infantil mais agrada as crianças. A pesquisa foi feita e o votos computados podem ser observados abaixo:\n",
    "\n",
    "| Design | Votos |\n",
    "|--------|:-----:|\n",
    "| 1      | 1334  |\n",
    "| 2      | 982   |\n",
    "| 3      | 1751  |\n",
    "| 4      | 210   |\n",
    "| 5      | 1811  |\n",
    "\n",
    "Adapte os dados fornecidos para uma estrutura de dicionário. A partir dele, informe o design vencedor e a porcentagem de votos recebidos."
   ]
  },
  {
   "cell_type": "code",
   "execution_count": 26,
   "metadata": {},
   "outputs": [
    {
     "name": "stdout",
     "output_type": "stream",
     "text": [
      "Design 5 é o mais votado com 29.75% dos votos.\n"
     ]
    }
   ],
   "source": [
    "total_votos = 0\n",
    "design_mais_votado = ''\n",
    "qtd_design_mais_votado = 0\n",
    "\n",
    "pesquisa_votos = {\n",
    "    'Design 1': 1334,\n",
    "    'Design 2': 982,\n",
    "    'Design 3': 1751,\n",
    "    'Design 4': 210,\n",
    "    'Design 5': 1811\n",
    "}\n",
    "\n",
    "for design, qtd_voto in pesquisa_votos.items():\n",
    "    total_votos += qtd_voto\n",
    "\n",
    "    if qtd_voto > qtd_design_mais_votado:\n",
    "        qtd_design_mais_votado = qtd_voto\n",
    "        design_mais_votado = design\n",
    "\n",
    "print(f'{design_mais_votado} é o mais votado com {round((qtd_design_mais_votado / total_votos)*100.0, 2)}% dos votos.')"
   ]
  },
  {
   "cell_type": "markdown",
   "metadata": {},
   "source": [
    "13. As pessoas colaboradoras de um setor da empresa que você trabalha vão receber um abono correspondente a 10% do salário devido ao ótimo desempenho do time. O setor financeiro solicitou sua ajuda para a verificação das consequências financeiras que esse abono irá gerar nos recursos. Assim, foi encaminhada para você uma lista com os salários que receberão o abono: [1172, 1644, 2617, 5130, 5532, 6341, 6650, 7238, 7685, 7782, 7903]. O abono de cada colaborador(a) não pode ser inferior a 200. Em código, transforme cada um dos salários em chaves de um dicionário e o abono de cada salário no elemento. Depois, informe o total de gastos com o abono, quantos(as) colaboradores(as) receberam o abono mínimo e qual o maior valor de abono fornecido."
   ]
  },
  {
   "cell_type": "code",
   "execution_count": 32,
   "metadata": {},
   "outputs": [
    {
     "name": "stdout",
     "output_type": "stream",
     "text": [
      "Abonos: {1172: 200.0, 1644: 200.0, 2617: 261.7, 5130: 513.0, 5532: 553.2, 6341: 634.1, 6650: 665.0, 7238: 723.8, 7685: 768.5, 7782: 778.2, 7903: 790.3}\n",
      "Foram gastos R$6087.80 em abonos.\n",
      "2 colaboradores receberam o abono mínimo de R$200,00.\n",
      "O maior abono foi de R$790.30.\n"
     ]
    }
   ],
   "source": [
    "salarios = [1172, 1644, 2617, 5130, 5532, 6341, 6650, 7238, 7685, 7782, 7903]\n",
    "\n",
    "qtd_abono_minimo = 0\n",
    "maior_abono = 0\n",
    "abonos = {}\n",
    "total_gastos_abono = 0\n",
    "\n",
    "for salario in salarios:\n",
    "    abono = round(salario * 0.10, 2)\n",
    "\n",
    "    if abono <= 200:\n",
    "        abono = 200.00\n",
    "        qtd_abono_minimo += 1\n",
    "    \n",
    "    if abono > maior_abono:\n",
    "        maior_abono = abono\n",
    "\n",
    "    total_gastos_abono += abono\n",
    "    abonos[salario] = abono\n",
    "\n",
    "print(f'Abonos: {abonos}')\n",
    "print(f'Foram gastos R${total_gastos_abono:.2f} em abonos.')\n",
    "print(f'{qtd_abono_minimo} colaboradores receberam o abono mínimo de R$200,00.')\n",
    "print(f'O maior abono foi de R${maior_abono:.2f}.')\n"
   ]
  },
  {
   "cell_type": "markdown",
   "metadata": {},
   "source": [
    "14. Uma equipe de cientistas de dados está estudando a diversidade biológica em uma floresta. A equipe fez a coleta de informações sobre o número de espécies de plantas e animais em cada área dessa floresta e armazenou essas informações em um dicionário. Nele, a chave descreve a área dos dados e os valores nas listas correspondem às espécies de plantas e animais nas áreas, respectivamente.\n",
    "\n",
    ">{'Área Norte': [2819, 7236],\n",
    " 'Área Leste': [1440, 9492],\n",
    " 'Área Sul': [5969, 7496],\n",
    " 'Área Oeste': [14446, 49688],\n",
    " 'Área Centro': [22558, 45148]}\n",
    "\n",
    "Escreva um código para calcular a média de espécies por área e identificar a área com a maior diversidade biológica. Dica: use as funções built-in sum() e len(). "
   ]
  },
  {
   "cell_type": "code",
   "execution_count": 37,
   "metadata": {},
   "outputs": [
    {
     "name": "stdout",
     "output_type": "stream",
     "text": [
      "Área Norte -> Média: 5027.5\n",
      "Área Leste -> Média: 5466.0\n",
      "Área Sul -> Média: 6732.5\n",
      "Área Oeste -> Média: 32067.0\n",
      "Área Centro -> Média: 33853.0\n",
      "\n",
      "Área Centro é a área de maior diversidade.\n"
     ]
    }
   ],
   "source": [
    "biodiversidade = {\n",
    "    'Área Norte': [2819, 7236],\n",
    "    'Área Leste': [1440, 9492],\n",
    "    'Área Sul': [5969, 7496],\n",
    "    'Área Oeste': [14446, 49688],\n",
    "    'Área Centro': [22558, 45148]\n",
    "}\n",
    "\n",
    "qtd_maior_diversidade = 0\n",
    "area_maior_diversidade = ''\n",
    "\n",
    "for area, diversidade in biodiversidade.items():\n",
    "    media = round(sum(diversidade) / len(diversidade), 2)\n",
    "    print(f'{area} -> Média: {media}')\n",
    "\n",
    "    if media > qtd_maior_diversidade:\n",
    "        qtd_maior_diversidade = media\n",
    "        area_maior_diversidade = area\n",
    "\n",
    "print(f'\\n{area_maior_diversidade} é a área de maior diversidade.')"
   ]
  },
  {
   "cell_type": "markdown",
   "metadata": {},
   "source": [
    "15. O setor de RH da sua empresa te pediu uma ajuda para analisar as idades de colaboradores(as) de 4 setores da empresa. Para isso, foram fornecidos os seguintes dados:\n",
    "\n",
    ">{'Setor A': [22, 26, 30, 30, 35, 38, 40, 56, 57, 65],\n",
    " 'Setor B': [22, 24, 26, 33, 41, 49, 50, 54, 60, 64],\n",
    " 'Setor C': [23, 26, 26, 29, 34, 35, 36, 41, 52, 56],\n",
    " 'Setor D': [19, 20, 25, 27, 34, 39, 42, 44, 50, 65]}\n",
    "\n",
    "Sabendo que cada setor tem 10 colaboradores(as), construa um código que calcule a média de idade de cada setor, a idade média geral entre todos os setores e quantas pessoas estão acima da idade média geral."
   ]
  },
  {
   "cell_type": "code",
   "execution_count": 52,
   "metadata": {},
   "outputs": [
    {
     "name": "stdout",
     "output_type": "stream",
     "text": [
      "Média de idade por setor:\n",
      "Setor A -> 39.9\n",
      "Setor B -> 42.3\n",
      "Setor C -> 35.8\n",
      "Setor D -> 36.5\n",
      "\n",
      "Média geral: 38.625\n",
      "18 estão acima da média.\n"
     ]
    }
   ],
   "source": [
    "dados = {\n",
    "    'Setor A': [22, 26, 30, 30, 35, 38, 40, 56, 57, 65],\n",
    "    'Setor B': [22, 24, 26, 33, 41, 49, 50, 54, 60, 64],\n",
    "    'Setor C': [23, 26, 26, 29, 34, 35, 36, 41, 52, 56],\n",
    "    'Setor D': [19, 20, 25, 27, 34, 39, 42, 44, 50, 65]\n",
    "}\n",
    "\n",
    "soma_idades = 0\n",
    "qtd_idades = 0\n",
    "qtd_acima_media = 0\n",
    "\n",
    "print('Média de idade por setor:')\n",
    "\n",
    "for setor, idades in dados.items():\n",
    "    media_setor = sum(idades) / len(idades)\n",
    "    print(f'{setor} -> {media_setor}')\n",
    "\n",
    "    soma_idades += sum(idades)\n",
    "    qtd_idades += len(idades)\n",
    "\n",
    "media_geral = soma_idades / qtd_idades\n",
    "\n",
    "for idades in dados.values():\n",
    "    for idade in idades:\n",
    "        if idade > media_geral:\n",
    "            qtd_acima_media += 1\n",
    "\n",
    "print(f'\\nMédia geral: {media_geral}')\n",
    "print(f'{qtd_acima_media} estão acima da média.')"
   ]
  }
 ],
 "metadata": {
  "kernelspec": {
   "display_name": "venv",
   "language": "python",
   "name": "python3"
  },
  "language_info": {
   "codemirror_mode": {
    "name": "ipython",
    "version": 3
   },
   "file_extension": ".py",
   "mimetype": "text/x-python",
   "name": "python",
   "nbconvert_exporter": "python",
   "pygments_lexer": "ipython3",
   "version": "3.12.4"
  }
 },
 "nbformat": 4,
 "nbformat_minor": 2
}
